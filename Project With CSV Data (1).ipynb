{
 "cells": [
  {
   "cell_type": "code",
   "execution_count": 1,
   "id": "30456c20",
   "metadata": {},
   "outputs": [],
   "source": [
    "import findspark\n",
    "findspark.init()"
   ]
  },
  {
   "cell_type": "code",
   "execution_count": 2,
   "id": "dea026c8",
   "metadata": {},
   "outputs": [],
   "source": [
    "from pyspark.sql import SparkSession\n",
    "from pyspark.sql.functions import split, col, explode"
   ]
  },
  {
   "cell_type": "code",
   "execution_count": 3,
   "id": "0460f95e",
   "metadata": {},
   "outputs": [],
   "source": [
    "spark = SparkSession.builder.appName(\"app\").getOrCreate()\n",
    "sc = spark.sparkContext"
   ]
  },
  {
   "cell_type": "code",
   "execution_count": 4,
   "id": "845cfce8",
   "metadata": {},
   "outputs": [],
   "source": [
    "pathToRead = r\"C:\\Users\\game_info.csv\""
   ]
  },
  {
   "cell_type": "code",
   "execution_count": 5,
   "id": "e00cb046",
   "metadata": {},
   "outputs": [],
   "source": [
    "df = spark.read.csv(pathToRead,header=True,)"
   ]
  },
  {
   "cell_type": "code",
   "execution_count": 6,
   "id": "6fb10fbb",
   "metadata": {
    "collapsed": true
   },
   "outputs": [
    {
     "name": "stdout",
     "output_type": "stream",
     "text": [
      "root\n",
      " |-- id: string (nullable = true)\n",
      " |-- slug: string (nullable = true)\n",
      " |-- name: string (nullable = true)\n",
      " |-- metacritic: string (nullable = true)\n",
      " |-- released: string (nullable = true)\n",
      " |-- tba: string (nullable = true)\n",
      " |-- updated: string (nullable = true)\n",
      " |-- website: string (nullable = true)\n",
      " |-- rating: string (nullable = true)\n",
      " |-- rating_top: string (nullable = true)\n",
      " |-- playtime: string (nullable = true)\n",
      " |-- achievements_count: string (nullable = true)\n",
      " |-- ratings_count: string (nullable = true)\n",
      " |-- suggestions_count: string (nullable = true)\n",
      " |-- game_series_count: string (nullable = true)\n",
      " |-- reviews_count: string (nullable = true)\n",
      " |-- platforms: string (nullable = true)\n",
      " |-- developers: string (nullable = true)\n",
      " |-- genres: string (nullable = true)\n",
      " |-- publishers: string (nullable = true)\n",
      " |-- esrb_rating: string (nullable = true)\n",
      " |-- added_status_yet: string (nullable = true)\n",
      " |-- added_status_owned: string (nullable = true)\n",
      " |-- added_status_beaten: string (nullable = true)\n",
      " |-- added_status_toplay: string (nullable = true)\n",
      " |-- added_status_dropped: string (nullable = true)\n",
      " |-- added_status_playing: string (nullable = true)\n",
      "\n"
     ]
    }
   ],
   "source": [
    "df.printSchema()"
   ]
  },
  {
   "cell_type": "code",
   "execution_count": 7,
   "id": "ffee5a3e",
   "metadata": {
    "scrolled": false
   },
   "outputs": [],
   "source": [
    "df1 = df.select(\n",
    "    df[\"id\"],\n",
    "    df[\"slug\"],\n",
    "    df[\"name\"],\n",
    "    df[\"metacritic\"],\n",
    "    df[\"released\"],\n",
    "    df[\"tba\"],\n",
    "    df[\"updated\"],\n",
    "    df[\"website\"],\n",
    "    df[\"rating\"],\n",
    "    df[\"rating_top\"],\n",
    "    df[\"playtime\"],\n",
    "    df[\"achievements_count\"],\n",
    "    df[\"ratings_count\"],\n",
    "    df[\"suggestions_count\"],\n",
    "    df[\"game_series_count\"],\n",
    "    df[\"reviews_count\"],\n",
    "    split(col(\"platforms\"), \"\\|\\|\").alias(\"platforms\"),\n",
    "    split(col(\"developers\"), \"\\|\\|\").alias(\"developers\"),\n",
    "    split(col(\"genres\"), \"\\|\\|\").alias(\"genres\"),\n",
    "    split(col(\"publishers\"), \"\\|\\|\").alias(\"publishers\"),\n",
    "    df[\"esrb_rating\"],\n",
    "    df[\"added_status_yet\"],\n",
    "    df[\"added_status_owned\"],\n",
    "    df[\"added_status_beaten\"],\n",
    "    df[\"added_status_toplay\"],\n",
    "    df[\"added_status_dropped\"],\n",
    "    df[\"added_status_playing\"],\n",
    ")"
   ]
  },
  {
   "cell_type": "code",
   "execution_count": 8,
   "id": "64ca1672",
   "metadata": {
    "collapsed": true
   },
   "outputs": [
    {
     "name": "stdout",
     "output_type": "stream",
     "text": [
      "root\n",
      " |-- id: string (nullable = true)\n",
      " |-- slug: string (nullable = true)\n",
      " |-- name: string (nullable = true)\n",
      " |-- metacritic: string (nullable = true)\n",
      " |-- released: string (nullable = true)\n",
      " |-- tba: string (nullable = true)\n",
      " |-- updated: string (nullable = true)\n",
      " |-- website: string (nullable = true)\n",
      " |-- rating: string (nullable = true)\n",
      " |-- rating_top: string (nullable = true)\n",
      " |-- playtime: string (nullable = true)\n",
      " |-- achievements_count: string (nullable = true)\n",
      " |-- ratings_count: string (nullable = true)\n",
      " |-- suggestions_count: string (nullable = true)\n",
      " |-- game_series_count: string (nullable = true)\n",
      " |-- reviews_count: string (nullable = true)\n",
      " |-- platforms: array (nullable = true)\n",
      " |    |-- element: string (containsNull = true)\n",
      " |-- developers: array (nullable = true)\n",
      " |    |-- element: string (containsNull = true)\n",
      " |-- genres: array (nullable = true)\n",
      " |    |-- element: string (containsNull = true)\n",
      " |-- publishers: array (nullable = true)\n",
      " |    |-- element: string (containsNull = true)\n",
      " |-- esrb_rating: string (nullable = true)\n",
      " |-- added_status_yet: string (nullable = true)\n",
      " |-- added_status_owned: string (nullable = true)\n",
      " |-- added_status_beaten: string (nullable = true)\n",
      " |-- added_status_toplay: string (nullable = true)\n",
      " |-- added_status_dropped: string (nullable = true)\n",
      " |-- added_status_playing: string (nullable = true)\n",
      "\n"
     ]
    }
   ],
   "source": [
    "df1.printSchema()"
   ]
  },
  {
   "cell_type": "code",
   "execution_count": 57,
   "id": "359b3bfe",
   "metadata": {},
   "outputs": [],
   "source": [
    "pathToSave = r\"C:\\Users\\game_info\"\n",
    "df.write.json(pathToSave)"
   ]
  },
  {
   "cell_type": "code",
   "execution_count": 9,
   "id": "8125f0b7",
   "metadata": {},
   "outputs": [],
   "source": [
    "df1.createOrReplaceTempView(\"games\")"
   ]
  },
  {
   "cell_type": "code",
   "execution_count": 165,
   "id": "9a874b40",
   "metadata": {
    "collapsed": true
   },
   "outputs": [
    {
     "name": "stdout",
     "output_type": "stream",
     "text": [
      "+--------------------+--------------------+\n",
      "|                name|           platforms|\n",
      "+--------------------+--------------------+\n",
      "|     D/Generation HD|[PC, macOS, Xbox ...|\n",
      "|G Prime Into The ...|[macOS, PC, Xbox ...|\n",
      "|        Land Sliders|               [iOS]|\n",
      "|          Pixel Gear| [PC, PlayStation 4]|\n",
      "|      Gods and Idols|                [PC]|\n",
      "|        Plague venue|               [Web]|\n",
      "|The Moon Sliver (...|         [PC, macOS]|\n",
      "|          Red Entity|  [PC, macOS, Linux]|\n",
      "|       HippiesVsCops|                [PC]|\n",
      "|They Came Through...|                [PC]|\n",
      "|Fading Light: Des...|                [PC]|\n",
      "|The Book Ritual (...|         [PC, macOS]|\n",
      "|Corner of the Clu...|           [PC, Web]|\n",
      "|Serious Sam Fusio...|  [Linux, macOS, PC]|\n",
      "|Intelligence: The...|                [PC]|\n",
      "|  Que Sera Sera Demo|         [PC, macOS]|\n",
      "|Excelsior Phase O...|                [PC]|\n",
      "|        Space Escape|               [Web]|\n",
      "|Passing Through t...|               [Web]|\n",
      "|           CORPUS100|               [Web]|\n",
      "+--------------------+--------------------+\n",
      "only showing top 20 rows\n",
      "\n"
     ]
    }
   ],
   "source": [
    "spark.sql(\"select name, platforms from games\").show()"
   ]
  },
  {
   "cell_type": "markdown",
   "id": "e8f0c34f",
   "metadata": {},
   "source": [
    "# Which is the top most rated games accross all platform"
   ]
  },
  {
   "cell_type": "code",
   "execution_count": 172,
   "id": "647823d6",
   "metadata": {
    "scrolled": true
   },
   "outputs": [],
   "source": [
    "df2 = df1.select(df[\"name\"], df[\"released\"], explode(\"platforms\"), df[\"rating\"], df[\"rating_top\"], df[\"ratings_count\"], df[\"playtime\"])"
   ]
  },
  {
   "cell_type": "code",
   "execution_count": 173,
   "id": "6058260f",
   "metadata": {},
   "outputs": [],
   "source": [
    "df2.createOrReplaceTempView(\"filtered_games\")"
   ]
  },
  {
   "cell_type": "code",
   "execution_count": 177,
   "id": "fccfd750",
   "metadata": {
    "collapsed": true
   },
   "outputs": [
    {
     "name": "stdout",
     "output_type": "stream",
     "text": [
      "+--------------------+------+----------------+\n",
      "|                name|rating|        platform|\n",
      "+--------------------+------+----------------+\n",
      "|     D/Generation HD|   5.0|        Xbox One|\n",
      "|     D/Generation HD|   5.0|              PC|\n",
      "|     D/Generation HD|   5.0|   PlayStation 4|\n",
      "|        Land Sliders|  4.86|             iOS|\n",
      "|            Tron 2.0|  4.83|Game Boy Advance|\n",
      "|Gobbo goes adventure|  4.83|         Android|\n",
      "|     D/Generation HD|  4.78| Nintendo Switch|\n",
      "|              Runbow|  4.78|           Wii U|\n",
      "|            The Keep|  4.78|    Nintendo 3DS|\n",
      "|Kane and Lynch: D...|  4.78|   PlayStation 3|\n",
      "|     D/Generation HD|  4.78|           macOS|\n",
      "|Royal Defense Ult...|  4.78|         PS Vita|\n",
      "|          Red Entity|  4.78|           Linux|\n",
      "|     Hogwarts Legacy|  4.73| Xbox Series S/X|\n",
      "|Kane and Lynch: D...|  4.73|        Xbox 360|\n",
      "|    Maximum Override|  4.73|   PlayStation 5|\n",
      "| Destroy All Humans!|  4.71|             Wii|\n",
      "|    FINAL FANTASY VI|  4.71|            SNES|\n",
      "|    FINAL FANTASY VI|  4.71|     PlayStation|\n",
      "|Legacy of Kain: D...|  4.67|            Xbox|\n",
      "+--------------------+------+----------------+\n",
      "only showing top 20 rows\n",
      "\n"
     ]
    }
   ],
   "source": [
    "spark.sql(\"\"\"\n",
    "    select name, rating, platform from (\n",
    "    select row_number() over(partition by col order by col) as num,\n",
    "    name,\n",
    "    col as platform,\n",
    "    max(rating) over (partition by col) as rating\n",
    "    from filtered_games\n",
    "    where col != '0'\n",
    "    order by rating desc) as table\n",
    "    where num = 1\n",
    "    \"\"\"\n",
    ").show()"
   ]
  },
  {
   "cell_type": "markdown",
   "id": "54542e65",
   "metadata": {},
   "source": [
    "# Which game dev has released most games"
   ]
  },
  {
   "cell_type": "code",
   "execution_count": 73,
   "id": "8c0984a1",
   "metadata": {},
   "outputs": [],
   "source": [
    "df3 = df1.select(df[\"name\"], explode(\"developers\"))"
   ]
  },
  {
   "cell_type": "code",
   "execution_count": 75,
   "id": "ccfa1ed0",
   "metadata": {},
   "outputs": [],
   "source": [
    "df3.createOrReplaceTempView(\"filtered_developers\")"
   ]
  },
  {
   "cell_type": "code",
   "execution_count": 178,
   "id": "74e5927a",
   "metadata": {
    "collapsed": true
   },
   "outputs": [
    {
     "name": "stdout",
     "output_type": "stream",
     "text": [
      "+--------------------+-----+\n",
      "|          developers|games|\n",
      "+--------------------+-----+\n",
      "|Sony Interactive ...|  647|\n",
      "|                SEGA|  513|\n",
      "|Konami Digital En...|  415|\n",
      "|            Nintendo|  395|\n",
      "|              Capcom|  395|\n",
      "|      Big Fish Games|  380|\n",
      "|     Electronic Arts|  316|\n",
      "|             Ubisoft|  299|\n",
      "|         Square Enix|  295|\n",
      "|       Robert Brooks|  239|\n",
      "+--------------------+-----+\n",
      "\n"
     ]
    }
   ],
   "source": [
    "spark.sql(\"select col as developers, count(name) as games from filtered_developers group by col order by games desc limit 10\").show()"
   ]
  },
  {
   "cell_type": "markdown",
   "id": "7d515708",
   "metadata": {},
   "source": [
    "# Which game genres has most games"
   ]
  },
  {
   "cell_type": "code",
   "execution_count": 91,
   "id": "34c6e363",
   "metadata": {},
   "outputs": [],
   "source": [
    "df4 = df1.select(df[\"name\"], explode(\"genres\"))"
   ]
  },
  {
   "cell_type": "code",
   "execution_count": 92,
   "id": "1bfc594c",
   "metadata": {},
   "outputs": [],
   "source": [
    "df4.createOrReplaceTempView(\"filtered_genres\")"
   ]
  },
  {
   "cell_type": "code",
   "execution_count": 98,
   "id": "bf7286c5",
   "metadata": {
    "collapsed": true
   },
   "outputs": [
    {
     "name": "stdout",
     "output_type": "stream",
     "text": [
      "+----------+------+\n",
      "|    genres| count|\n",
      "+----------+------+\n",
      "|    Action|102023|\n",
      "| Adventure| 72209|\n",
      "|    Puzzle| 55550|\n",
      "|Platformer| 48252|\n",
      "|Simulation| 40719|\n",
      "|     Indie| 33155|\n",
      "|  Strategy| 33050|\n",
      "|       RPG| 31947|\n",
      "|   Shooter| 31822|\n",
      "|    Casual| 28367|\n",
      "+----------+------+\n",
      "\n"
     ]
    }
   ],
   "source": [
    "spark.sql(\"select col as genres, count(name) as count from filtered_genres group by genres order by count desc limit 10\").show()"
   ]
  },
  {
   "cell_type": "code",
   "execution_count": null,
   "id": "b2cbc633",
   "metadata": {},
   "outputs": [],
   "source": []
  },
  {
   "cell_type": "code",
   "execution_count": null,
   "id": "92ce3676",
   "metadata": {},
   "outputs": [],
   "source": []
  },
  {
   "cell_type": "code",
   "execution_count": null,
   "id": "8ef87d4a",
   "metadata": {},
   "outputs": [],
   "source": []
  },
  {
   "cell_type": "code",
   "execution_count": null,
   "id": "0895ec1c",
   "metadata": {},
   "outputs": [],
   "source": []
  },
  {
   "cell_type": "code",
   "execution_count": null,
   "id": "6f91dc1f",
   "metadata": {},
   "outputs": [],
   "source": []
  },
  {
   "cell_type": "code",
   "execution_count": null,
   "id": "b52a3292",
   "metadata": {},
   "outputs": [],
   "source": []
  },
  {
   "cell_type": "code",
   "execution_count": null,
   "id": "76d272b7",
   "metadata": {},
   "outputs": [],
   "source": []
  },
  {
   "cell_type": "code",
   "execution_count": null,
   "id": "d7c8629a",
   "metadata": {},
   "outputs": [],
   "source": []
  }
 ],
 "metadata": {
  "kernelspec": {
   "display_name": "Python 3",
   "language": "python",
   "name": "python3"
  },
  "language_info": {
   "codemirror_mode": {
    "name": "ipython",
    "version": 3
   },
   "file_extension": ".py",
   "mimetype": "text/x-python",
   "name": "python",
   "nbconvert_exporter": "python",
   "pygments_lexer": "ipython3",
   "version": "3.8.8"
  }
 },
 "nbformat": 4,
 "nbformat_minor": 5
}

